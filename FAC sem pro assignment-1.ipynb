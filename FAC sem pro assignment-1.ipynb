{
 "cells": [
  {
   "cell_type": "code",
   "execution_count": 50,
   "id": "7e167f96",
   "metadata": {},
   "outputs": [],
   "source": [
    "import numpy as np\n",
    "import pandas as pd\n",
    "import yfinance as yf\n",
    "import matplotlib.pyplot as plt\n"
   ]
  },
  {
   "attachments": {},
   "cell_type": "markdown",
   "id": "b3dd7e1d",
   "metadata": {},
   "source": [
    "### Downloading Data"
   ]
  },
  {
   "cell_type": "code",
   "execution_count": 51,
   "id": "f0fc8107",
   "metadata": {},
   "outputs": [
    {
     "data": {
      "text/html": [
       "<div>\n",
       "<style scoped>\n",
       "    .dataframe tbody tr th:only-of-type {\n",
       "        vertical-align: middle;\n",
       "    }\n",
       "\n",
       "    .dataframe tbody tr th {\n",
       "        vertical-align: top;\n",
       "    }\n",
       "\n",
       "    .dataframe thead th {\n",
       "        text-align: right;\n",
       "    }\n",
       "</style>\n",
       "<table border=\"1\" class=\"dataframe\">\n",
       "  <thead>\n",
       "    <tr style=\"text-align: right;\">\n",
       "      <th></th>\n",
       "      <th>Open</th>\n",
       "      <th>High</th>\n",
       "      <th>Low</th>\n",
       "      <th>Close</th>\n",
       "      <th>Volume</th>\n",
       "      <th>Dividends</th>\n",
       "      <th>Stock Splits</th>\n",
       "    </tr>\n",
       "    <tr>\n",
       "      <th>Date</th>\n",
       "      <th></th>\n",
       "      <th></th>\n",
       "      <th></th>\n",
       "      <th></th>\n",
       "      <th></th>\n",
       "      <th></th>\n",
       "      <th></th>\n",
       "    </tr>\n",
       "  </thead>\n",
       "  <tbody>\n",
       "    <tr>\n",
       "      <th>2023-02-20 00:00:00+05:30</th>\n",
       "      <td>384.700012</td>\n",
       "      <td>387.500000</td>\n",
       "      <td>381.299988</td>\n",
       "      <td>384.049988</td>\n",
       "      <td>7804976</td>\n",
       "      <td>0.0</td>\n",
       "      <td>0.0</td>\n",
       "    </tr>\n",
       "    <tr>\n",
       "      <th>2023-02-21 00:00:00+05:30</th>\n",
       "      <td>385.000000</td>\n",
       "      <td>385.899994</td>\n",
       "      <td>381.700012</td>\n",
       "      <td>382.250000</td>\n",
       "      <td>8259574</td>\n",
       "      <td>0.0</td>\n",
       "      <td>0.0</td>\n",
       "    </tr>\n",
       "    <tr>\n",
       "      <th>2023-02-22 00:00:00+05:30</th>\n",
       "      <td>382.000000</td>\n",
       "      <td>384.899994</td>\n",
       "      <td>380.000000</td>\n",
       "      <td>383.850006</td>\n",
       "      <td>8961077</td>\n",
       "      <td>0.0</td>\n",
       "      <td>0.0</td>\n",
       "    </tr>\n",
       "    <tr>\n",
       "      <th>2023-02-23 00:00:00+05:30</th>\n",
       "      <td>384.450012</td>\n",
       "      <td>394.000000</td>\n",
       "      <td>383.100006</td>\n",
       "      <td>387.600006</td>\n",
       "      <td>18830592</td>\n",
       "      <td>0.0</td>\n",
       "      <td>0.0</td>\n",
       "    </tr>\n",
       "    <tr>\n",
       "      <th>2023-02-24 00:00:00+05:30</th>\n",
       "      <td>389.000000</td>\n",
       "      <td>389.000000</td>\n",
       "      <td>381.000000</td>\n",
       "      <td>385.100006</td>\n",
       "      <td>12910220</td>\n",
       "      <td>0.0</td>\n",
       "      <td>0.0</td>\n",
       "    </tr>\n",
       "  </tbody>\n",
       "</table>\n",
       "</div>"
      ],
      "text/plain": [
       "                                 Open        High         Low       Close  \\\n",
       "Date                                                                        \n",
       "2023-02-20 00:00:00+05:30  384.700012  387.500000  381.299988  384.049988   \n",
       "2023-02-21 00:00:00+05:30  385.000000  385.899994  381.700012  382.250000   \n",
       "2023-02-22 00:00:00+05:30  382.000000  384.899994  380.000000  383.850006   \n",
       "2023-02-23 00:00:00+05:30  384.450012  394.000000  383.100006  387.600006   \n",
       "2023-02-24 00:00:00+05:30  389.000000  389.000000  381.000000  385.100006   \n",
       "\n",
       "                             Volume  Dividends  Stock Splits  \n",
       "Date                                                          \n",
       "2023-02-20 00:00:00+05:30   7804976        0.0           0.0  \n",
       "2023-02-21 00:00:00+05:30   8259574        0.0           0.0  \n",
       "2023-02-22 00:00:00+05:30   8961077        0.0           0.0  \n",
       "2023-02-23 00:00:00+05:30  18830592        0.0           0.0  \n",
       "2023-02-24 00:00:00+05:30  12910220        0.0           0.0  "
      ]
     },
     "execution_count": 51,
     "metadata": {},
     "output_type": "execute_result"
    }
   ],
   "source": [
    "ticker = yf.Ticker('ITC.NS')\n",
    "data = ticker.history(period=\"3mo\")\n",
    "data.head()"
   ]
  },
  {
   "attachments": {},
   "cell_type": "markdown",
   "id": "4b9fca07",
   "metadata": {},
   "source": [
    "### Calculating SMA on 5-days intervals"
   ]
  },
  {
   "cell_type": "code",
   "execution_count": 52,
   "id": "727dae55",
   "metadata": {},
   "outputs": [],
   "source": [
    "SMA=np.zeros(len(data))\n",
    "for i in range(len(data)-4):\n",
    "      close = data.iloc[i:i+5, data.columns.get_loc('Close')]\n",
    "      SMA[i+4] = close.mean()\n",
    "      if SMA[i]==0:\n",
    "            SMA[i]=None"
   ]
  },
  {
   "cell_type": "code",
   "execution_count": 53,
   "id": "bb212aaf",
   "metadata": {},
   "outputs": [
    {
     "data": {
      "text/plain": [
       "array([         nan,          nan,          nan,          nan,\n",
       "       384.57000122, 384.2000061 , 383.09000854, 382.06000977,\n",
       "       379.6500061 , 379.62000732, 380.81000366, 383.95      ,\n",
       "       385.70999756, 388.2       , 387.93999634, 386.25      ,\n",
       "       383.65      , 382.44000244, 379.95      , 378.97999878,\n",
       "       378.42999878, 378.1       , 377.93999634, 378.57000122,\n",
       "       378.8500061 , 379.41000366, 380.41000366, 380.98000488,\n",
       "       381.02000122, 382.25999756, 383.77999878, 384.93999634,\n",
       "       387.43999634, 390.36999512, 392.20999756, 394.76999512,\n",
       "       396.75999756, 397.30999756, 398.65999756, 401.18999634,\n",
       "       402.9       , 405.50999756, 408.20999756, 411.35      ,\n",
       "       414.80999756, 417.95999756, 421.07999878, 423.55      ,\n",
       "       426.1       , 427.28000488, 427.15      , 426.79000244,\n",
       "       425.95      , 424.29000244, 423.55999756, 423.59000244,\n",
       "       424.04000244, 423.9000061 , 423.78000488])"
      ]
     },
     "execution_count": 53,
     "metadata": {},
     "output_type": "execute_result"
    }
   ],
   "source": [
    "SMA"
   ]
  },
  {
   "attachments": {},
   "cell_type": "markdown",
   "id": "a7930982",
   "metadata": {},
   "source": [
    "### Calculating EMA"
   ]
  },
  {
   "cell_type": "code",
   "execution_count": 54,
   "id": "050fac1b",
   "metadata": {
    "scrolled": true
   },
   "outputs": [],
   "source": [
    "s = 2\n",
    "t = 5\n",
    "EMA = np.zeros(len(data))\n",
    "for i in range(len(data)):\n",
    "    if i==0:\n",
    "        EMA[i] = data['Close'][0]\n",
    "    else:\n",
    "        EMA[i] = (EMA[i-1]*(1-(s/(1+t))))+(data['Close'][i]*(s/(1+t)))"
   ]
  },
  {
   "cell_type": "code",
   "execution_count": 55,
   "id": "c257a4be",
   "metadata": {},
   "outputs": [
    {
     "data": {
      "text/plain": [
       "array([384.04998779, 383.44999186, 383.58332994, 384.922222  ,\n",
       "       384.98148337, 384.05432631, 381.60288828, 380.63526292,\n",
       "       378.94017121, 380.94345154, 383.34563233, 386.36375285,\n",
       "       386.7425019 , 387.16166793, 385.99110992, 383.89407735,\n",
       "       382.39604953, 382.08070376, 379.90379844, 379.53586155,\n",
       "       378.67391177, 378.36594118, 379.12729209, 378.98486546,\n",
       "       379.38991438, 379.50994292, 380.58996194, 381.55997463,\n",
       "       380.67331439, 382.58220756, 384.17147374, 385.63097842,\n",
       "       389.08731895, 390.57487523, 392.24991885, 394.8832772 ,\n",
       "       396.08885147, 396.97590098, 398.08392992, 401.47261994,\n",
       "       403.8817507 , 406.43782973, 408.37521982, 410.91681321,\n",
       "       415.79453807, 418.67969612, 421.50312871, 422.53542117,\n",
       "       424.60694745, 426.88796904, 425.85864195, 425.68909667,\n",
       "       423.92606241, 422.76737901, 424.44491527, 424.27994758,\n",
       "       425.38663376, 423.49109324, 422.27739753])"
      ]
     },
     "execution_count": 55,
     "metadata": {},
     "output_type": "execute_result"
    }
   ],
   "source": [
    "EMA"
   ]
  },
  {
   "attachments": {},
   "cell_type": "markdown",
   "id": "7b81f384",
   "metadata": {},
   "source": [
    "### Plotting graphs"
   ]
  },
  {
   "cell_type": "code",
   "execution_count": 56,
   "id": "26b1b53b",
   "metadata": {},
   "outputs": [
    {
     "data": {
      "image/png": "[encoded data removed]",
      "text/plain": [
       "<Figure size 640x480 with 1 Axes>"
      ]
     },
     "metadata": {},
     "output_type": "display_data"
    }
   ],
   "source": [
    "plt.plot(data.index,EMA,label='EMA')\n",
    "plt.plot(data.index,SMA,label='SMA')\n",
    "plt.xlabel('Date')\n",
    "plt.ylabel('price')\n",
    "plt.legend()\n",
    "plt.show()"
   ]
  },
  {
   "cell_type": "code",
   "execution_count": null,
   "id": "877846d3",
   "metadata": {},
   "outputs": [],
   "source": []
  }
 ],
 "metadata": {
  "kernelspec": {
   "display_name": "Python 3 (ipykernel)",
   "language": "python",
   "name": "python3"
  },
  "language_info": {
   "codemirror_mode": {
    "name": "ipython",
    "version": 3
   },
   "file_extension": ".py",
   "mimetype": "text/x-python",
   "name": "python",
   "nbconvert_exporter": "python",
   "pygments_lexer": "ipython3",
   "version": "3.11.1"
  }
 },
 "nbformat": 4,
 "nbformat_minor": 5
}
